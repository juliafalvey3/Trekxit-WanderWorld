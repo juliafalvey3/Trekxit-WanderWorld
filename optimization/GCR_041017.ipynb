{
 "cells": [
  {
   "cell_type": "code",
   "execution_count": 3,
   "metadata": {
    "collapsed": true
   },
   "outputs": [],
   "source": [
    "import sqlite3\n",
    "import pandas as pd\n",
    "import numpy as np\n",
    "from gurobipy import *\n",
    "import datetime\n",
    "import time"
   ]
  },
  {
   "cell_type": "code",
   "execution_count": 4,
   "metadata": {
    "collapsed": false
   },
   "outputs": [],
   "source": [
    "#CONVERT DATA TO DATAFRAME\n",
    "\n",
    "conn = sqlite3.connect(\"flight_sample.db\")\n",
    "c = conn.cursor()\n",
    "query = c.execute('''SELECT * From flights ''')\n",
    "cols = [column[0] for column in query.description]\n",
    "results = pd.DataFrame.from_records(data = query.fetchall(), columns = cols)\n",
    "\n",
    "results.to_csv('flights.csv')\n",
    "\n",
    "#df = pd.read_sql_query(\"SELECT * FROM table_name\", conn)\n",
    "#dat = sqlite3.connect(\"flight.db\")\n",
    "#query = dat.execute(\"SELECT * From flight\")\n",
    "#cols = [column[0] for column in query.description]\n",
    "#results= pd.DataFrame.from_records(data = query.fetchall(), columns = cols)"
   ]
  },
  {
   "cell_type": "code",
   "execution_count": 5,
   "metadata": {
    "collapsed": false
   },
   "outputs": [],
   "source": [
    "#results.head(100)"
   ]
  },
  {
   "cell_type": "code",
   "execution_count": 6,
   "metadata": {
    "collapsed": true
   },
   "outputs": [],
   "source": [
    "# create dictionary of dataframes\n",
    "\n",
    "origins = results['origin_id'].unique()\n",
    "\n",
    "originsDict = {}\n",
    "for i in origins:\n",
    "    originsDict[i] = results[results['origin_id'] == i]"
   ]
  },
  {
   "cell_type": "code",
   "execution_count": 7,
   "metadata": {
    "collapsed": false
   },
   "outputs": [],
   "source": [
    "#originsDict"
   ]
  },
  {
   "cell_type": "code",
   "execution_count": 8,
   "metadata": {
    "collapsed": true
   },
   "outputs": [],
   "source": [
    "# create dictionary for optimization model\n",
    "# format: {origin: destination1:{date1:price1, date2:price2},\n",
    "#                  destination2:{date1:price1, date2:price2}}\n",
    "\n",
    "X = {}\n",
    "for i in originsDict.keys():\n",
    "    X[i] = {}\n",
    "\n",
    "for i in origins:\n",
    "    for index, row in originsDict[i].iterrows():\n",
    "        X[i][row['destination_id']] = {}\n",
    "    for index, row in originsDict[i].iterrows():\n",
    "        X[i][row['destination_id']][datetime.datetime.strptime(row['outbound_date'], \"%Y-%m-%dT%H:%M:%S\").date()]= \\\n",
    "        (datetime.datetime.strptime(row['inbound_date'], \"%Y-%m-%dT%H:%M:%S\").date(), row['price'])"
   ]
  },
  {
   "cell_type": "markdown",
   "metadata": {},
   "source": [
    "# Automate the date intervals"
   ]
  },
  {
   "cell_type": "code",
   "execution_count": 9,
   "metadata": {
    "collapsed": false
   },
   "outputs": [],
   "source": [
    "user_start = '2017-05-01T00:00:00'\n",
    "user_end = '2017-05-31T00:00:00'\n",
    "#reads in the first and last day of the full timeframe of the user\n",
    "\n",
    "try:\n",
    "    \n",
    "    dt_start = datetime.datetime.strptime(user_start, \"%Y-%m-%dT%H:%M:%S\").date()\n",
    "    dt_end = datetime.datetime.strptime(user_end, \"%Y-%m-%dT%H:%M:%S\").date()\n",
    "    \n",
    "except ValueError:\n",
    "    print (\"Incorrect format\")\n",
    "    \n",
    "delta = dt_end - dt_start\n",
    "numdays = delta.days\n",
    "\n",
    "date_list = [dt_start + datetime.timedelta(days=x) for x in range(0, numdays)]\n",
    "\n",
    "#print(date_list[0])\n",
    "#print(date_list[:5])\n",
    "#delta.days\n",
    "#dt_start\n",
    "\n",
    "# Map date to nodes\n",
    "#date_list = [dt_start + datetime.timedelta(days=x) for x in range(0, numdays)]\n",
    "#date_map = {}\n",
    "#date_map[datetime.date(2017, 5, 1)]\n",
    "\n",
    "#date_list"
   ]
  },
  {
   "cell_type": "markdown",
   "metadata": {},
   "source": [
    "# Create list of lists of dates"
   ]
  },
  {
   "cell_type": "code",
   "execution_count": 10,
   "metadata": {
    "collapsed": false
   },
   "outputs": [],
   "source": [
    "num_days = 10 #this should be specified by the user\n",
    "\n",
    "dates = []\n",
    "dates_list = []\n",
    "for i in range(0,len(date_list)-num_days+1):\n",
    "    dates = date_list[0:num_days]\n",
    "    dates_list.append(dates)\n",
    "    date_list.pop(0)\n",
    "    \n",
    "#dates_list\n",
    "\n",
    "#All of the following code should be in one big loop\n",
    "#that iterates through dates_list"
   ]
  },
  {
   "cell_type": "markdown",
   "metadata": {},
   "source": [
    "# Create dummy dictionary"
   ]
  },
  {
   "cell_type": "code",
   "execution_count": 11,
   "metadata": {
    "collapsed": false
   },
   "outputs": [],
   "source": [
    "#create dummy dictionary of cities of interest\n",
    "#month of May\n",
    "\n",
    "Xcopy = X.copy()\n",
    "Y = {}\n",
    "key_list = origins\n",
    "\n",
    "for i in Xcopy.keys():\n",
    "    if i in key_list:\n",
    "        Y[i] = Xcopy[i]\n",
    "\n",
    "for i in Y.keys():\n",
    "    for j in Y[i].keys():\n",
    "        if j not in key_list:\n",
    "            Y[i][j] = {}\n",
    "    Y[i] = dict((k, v) for k, v in Y[i].iteritems() if v != {})  \n"
   ]
  },
  {
   "cell_type": "code",
   "execution_count": 12,
   "metadata": {
    "collapsed": false
   },
   "outputs": [],
   "source": [
    "#Y"
   ]
  },
  {
   "cell_type": "code",
   "execution_count": 13,
   "metadata": {
    "collapsed": false
   },
   "outputs": [],
   "source": [
    "date_list = dates_list[4]\n",
    "#create dummy dictionary of dates of interest\n",
    "Ycopy = Y.copy()\n",
    "Z = {}\n",
    "for i in Ycopy.keys():\n",
    "    Z[i] = {}\n",
    "    for j in Ycopy[i].keys():\n",
    "        Z[i][j] = {}\n",
    "        for k in Ycopy[i][j].keys():\n",
    "            if k in date_list:\n",
    "                Z[i][j][k] = Ycopy[i][j][k]\n",
    "            else:\n",
    "                Z[i][j][k] = {}\n",
    "        Z[i][j] = dict((k, v) for k, v in Z[i][j].iteritems() if v != {})"
   ]
  },
  {
   "cell_type": "code",
   "execution_count": 14,
   "metadata": {
    "collapsed": false
   },
   "outputs": [],
   "source": [
    "#Z"
   ]
  },
  {
   "cell_type": "markdown",
   "metadata": {},
   "source": [
    "# Separate source and non-source dictionaries"
   ]
  },
  {
   "cell_type": "code",
   "execution_count": 15,
   "metadata": {
    "collapsed": true
   },
   "outputs": [],
   "source": [
    "# source dictionary\n",
    "\n",
    "source = 'ATL'\n",
    "\n",
    "Zcopy = Z.copy()\n",
    "S = {}\n",
    "\n",
    "for i in Zcopy.keys():\n",
    "    if i == source:\n",
    "        S[source] = Zcopy[source]\n",
    "    else:\n",
    "        S[i] = {}\n",
    "\n",
    "for i in S.keys():\n",
    "    if source in Zcopy[i].keys():\n",
    "        S[i][source] = Zcopy[i][source]\n",
    "\n",
    "S = dict((k, v) for k, v in S.iteritems() if v != {})"
   ]
  },
  {
   "cell_type": "code",
   "execution_count": 16,
   "metadata": {
    "collapsed": false
   },
   "outputs": [],
   "source": [
    "# non-source dictionary\n",
    "\n",
    "Zcopy2 = Z.copy()\n",
    "Zcopy2[source] = {}\n",
    "Zcopy2 = dict((k, v) for k, v in Zcopy2.iteritems() if v != {})\n",
    "#with our current dataset, this will get rid of keys other than the source\n",
    "#since we are missing so many flights\n",
    "\n",
    "for i in Zcopy2.keys():\n",
    "    if source in Zcopy2[i].keys():\n",
    "        Zcopy2[i][source] = {}\n",
    "    Zcopy2[i] = dict((k, v) for k, v in Zcopy2[i].iteritems() if v != {})\n",
    "    \n",
    "Zcopy2 = dict((k, v) for k, v in Zcopy2.iteritems() if v != {})"
   ]
  },
  {
   "cell_type": "markdown",
   "metadata": {},
   "source": [
    "# Only one in- and out-bound date for source"
   ]
  },
  {
   "cell_type": "code",
   "execution_count": 17,
   "metadata": {
    "collapsed": false
   },
   "outputs": [],
   "source": [
    "dt_start = date_list[0] #datetime.date(2017, 5, 1)\n",
    "dt_end = date_list[-1] #datetime.date(2017, 5, 30)\n",
    "#this should come from the iteration:\n",
    "#for day in dates_list: dt_start = day[0], dt_end = day[-1]\n",
    "\n",
    "Scopy = S.copy()\n",
    "T = {}\n",
    "\n",
    "for i in Scopy.keys():\n",
    "    T[i] = {}\n",
    "    for j in Scopy[i].keys():\n",
    "        T[i][j] = {}\n",
    "\n",
    "for i in Scopy[source].keys():\n",
    "    for j in Scopy[source][i].keys():\n",
    "        if j == dt_start:\n",
    "            T[source][i][j] = S[source][i][j]\n",
    "\n",
    "for i in Scopy.keys():\n",
    "    if i != source:\n",
    "        for j in Scopy[i][source].keys():\n",
    "            if j == dt_end:\n",
    "                T[i][source][j] = Scopy[i][source][j]\n",
    "                \n",
    "sourceDict = T"
   ]
  },
  {
   "cell_type": "code",
   "execution_count": 18,
   "metadata": {
    "collapsed": false
   },
   "outputs": [],
   "source": [
    "nonsourceDict = dict(Zcopy2)\n",
    "\n",
    "for i in nonsourceDict.keys():\n",
    "    for j in nonsourceDict[i].keys():\n",
    "        del nonsourceDict[i][j][dt_start]\n",
    "        del nonsourceDict[i][j][dt_end]\n"
   ]
  },
  {
   "cell_type": "code",
   "execution_count": 19,
   "metadata": {
    "collapsed": false
   },
   "outputs": [],
   "source": [
    "#sourceDict"
   ]
  },
  {
   "cell_type": "code",
   "execution_count": 20,
   "metadata": {
    "collapsed": false
   },
   "outputs": [],
   "source": [
    "#nonsourceDict"
   ]
  },
  {
   "cell_type": "markdown",
   "metadata": {},
   "source": [
    "# Create available cities and legs?"
   ]
  },
  {
   "cell_type": "code",
   "execution_count": 21,
   "metadata": {
    "collapsed": false
   },
   "outputs": [],
   "source": [
    "delta = dt_end - dt_start\n",
    "numdays = delta.days\n",
    "real_dates = [dt_start + datetime.timedelta(days=x) for x in range(1, numdays+1)]\n",
    "real_cities = []\n",
    "for key in nonsourceDict:\n",
    "    real_cities.append(key)"
   ]
  },
  {
   "cell_type": "code",
   "execution_count": 22,
   "metadata": {
    "collapsed": false
   },
   "outputs": [],
   "source": [
    "#real_dates"
   ]
  },
  {
   "cell_type": "code",
   "execution_count": 23,
   "metadata": {
    "collapsed": true
   },
   "outputs": [],
   "source": [
    "sourceAvaiLegs = sourceDict.copy()\n",
    "avaiLegs = nonsourceDict.copy()\n",
    "SourceCity = source\n",
    "firstDate = dt_start\n",
    "lastDate = dt_end"
   ]
  },
  {
   "cell_type": "code",
   "execution_count": 24,
   "metadata": {
    "collapsed": false
   },
   "outputs": [],
   "source": [
    "#sourceAvaiLegs"
   ]
  },
  {
   "cell_type": "code",
   "execution_count": 25,
   "metadata": {
    "collapsed": true
   },
   "outputs": [],
   "source": [
    "#avaiLegs"
   ]
  },
  {
   "cell_type": "markdown",
   "metadata": {
    "collapsed": false
   },
   "source": [
    "# Optimization"
   ]
  },
  {
   "cell_type": "code",
   "execution_count": 26,
   "metadata": {
    "collapsed": false
   },
   "outputs": [
    {
     "name": "stdout",
     "output_type": "stream",
     "text": [
      "52 52\n"
     ]
    }
   ],
   "source": [
    "# new model here\n",
    "model = Model(\"WanderWorld\")\n",
    "\n",
    "\n",
    "# Add variables\n",
    "# Now we have all the available source-related legs in 'sourceAvaiLegs'\n",
    "# all the remaining available legs in 'avaiLegs' \n",
    "# all the inventory legs in 'invLegs' (well maybe we don't need this...)\n",
    "# and they are all in the same format\n",
    "\n",
    "legs = {} # available legs variables\n",
    "cost = {} # corresponding cost\n",
    "\n",
    "for origin, destDic in sourceAvaiLegs.iteritems():\n",
    "    if(origin==SourceCity):\n",
    "        for dest, dateDic in destDic.iteritems():\n",
    "            for date, price in dateDic.iteritems():\n",
    "                legs[origin, dest, date, price[0]+datetime.timedelta(days=1)] = model.addVar(\n",
    "                    vtype=GRB.BINARY, name=\"Source_{}_to_{}_day_{}_{}\".format(\n",
    "                        origin, dest, date, price[0]))\n",
    "                cost[origin, dest, date, price[0]+datetime.timedelta(days=1)] = price[1]\n",
    "    else:\n",
    "        for dest, dateDic in destDic.iteritems():\n",
    "            for date, price in dateDic.iteritems():\n",
    "                legs[origin, dest, date, price[0]+datetime.timedelta(days=1)] = model.addVar(\n",
    "                    vtype=GRB.BINARY, name=\"Sink_{}_to_{}_day_{}_{}\".format(\n",
    "                        origin, dest, date, price[0]))\n",
    "                cost[origin, dest, date, price[0]+datetime.timedelta(days=1)] = price[1]\n",
    "                \n",
    "for origin, destDic in avaiLegs.iteritems():\n",
    "    for dest, dateDic in destDic.iteritems():\n",
    "        for date, price in dateDic.iteritems():\n",
    "            legs[origin, dest, date, price[0]+datetime.timedelta(days=1)] = model.addVar(\n",
    "                vtype=GRB.BINARY, name=\"{}_to_{}_day_{}_{}\".format(\n",
    "                    origin, dest, date, price[0]))\n",
    "            cost[origin, dest, date, price[0]+datetime.timedelta(days=1)] = price[1]\n",
    "\n",
    "model.update()\n",
    "print len(legs), len(cost)\n",
    "\n",
    "avaiLegsByDest = {} # record all the available legs by Destination, no Inventory\n",
    "avaiLegsByOri = {} # record all the available legs by Origin, no Inventory\n",
    "for (origin, destination, depart, arri) in legs: # Without Inventory Variables\n",
    "    try:\n",
    "        avaiLegsByDest[destination].append((origin, destination, depart, arri))\n",
    "    except:\n",
    "        avaiLegsByDest[destination] = [(origin, destination, depart, arri)]\n",
    "    try:\n",
    "        avaiLegsByOri[origin].append((origin, destination, depart, arri))\n",
    "    except:\n",
    "        avaiLegsByOri[origin] = [(origin, destination, depart, arri)]\n",
    "\n",
    "# Add the inventory arcs\n",
    "# Inventory Variables\n",
    "for date in real_dates:\n",
    "    for city in real_cities:\n",
    "        legs[city, city, date, date+datetime.timedelta(days=1)] = \\\n",
    "        model.addVar(vtype=GRB.BINARY, name=\"Inventory_{}_day_{}\".format(\n",
    "                    city, date))\n",
    "\n",
    "model.update()\n",
    "\n",
    "allLegsByDest = {} # record all the available legs by Destination\n",
    "allLegsByOri = {} # record all the available legs by Origin\n",
    "for (origin, destination, depart, arri) in legs: # Without Inventory Variables\n",
    "    try:\n",
    "        allLegsByDest[destination,arri].append((origin, destination, depart, arri))\n",
    "    except:\n",
    "        allLegsByDest[destination,arri] = [(origin, destination, depart, arri)]\n",
    "    try:\n",
    "        allLegsByOri[origin,depart].append((origin, destination, depart, arri))\n",
    "    except:\n",
    "        allLegsByOri[origin,depart] = [(origin, destination, depart, arri)]          "
   ]
  },
  {
   "cell_type": "code",
   "execution_count": 27,
   "metadata": {
    "collapsed": false
   },
   "outputs": [],
   "source": [
    "#legs"
   ]
  },
  {
   "cell_type": "code",
   "execution_count": 28,
   "metadata": {
    "collapsed": false
   },
   "outputs": [],
   "source": [
    "# Set Constraints\n",
    "UpperBound = 10\n",
    "LowerBound = 2 # can stay LowerBound + 1 nights\n",
    "\n",
    "# all cities covered and visited only once\n",
    "for destination in avaiLegsByDest:\n",
    "    model.addConstr(quicksum(legs[origin, destination, depart, arri] \n",
    "                             for (origin,dest,depart,arri) in avaiLegsByDest[destination])== 1,\n",
    "                   \"VisitOnlyOnce_{}\".format(destination))\n",
    "\n",
    "# min and max number of days (inventory constraints)\n",
    "for city in real_cities:\n",
    "    model.addConstr(quicksum(legs[city, city, date, date+datetime.timedelta(days=1)] \n",
    "                             for date in real_dates) <= UpperBound,\n",
    "                   \"Stay_Upper_Bound_{}\".format(city))\n",
    "    model.addConstr(quicksum(legs[city, city, date, date+datetime.timedelta(days=1)] \n",
    "                             for date in real_dates) >= LowerBound,\n",
    "                   \"Stay_Lower_Bound_{}\".format(city))\n",
    "\n",
    "# Flow Balance\n",
    "# Aux Arc balance\n",
    "SourceFlow = quicksum(legs[origin, destination, depart, arri]\n",
    "                        for (origin, destination, depart, arri) in allLegsByOri[SourceCity,firstDate])\n",
    "SinkFlow = quicksum(legs[origin, destination, depart, arri]\n",
    "                        for (origin, destination, depart, arri) in allLegsByDest[SourceCity,lastDate+datetime.timedelta(days=1)])\n",
    "model.addConstr(SourceFlow==1, \"SourceOneOut\")\n",
    "model.addConstr(SinkFlow==1, \"SinkOneIn\")\n",
    "\n",
    "# Ordinary balance\n",
    "for city in real_cities:\n",
    "    for date in real_dates:\n",
    "        if(date==firstDate):\n",
    "            continue\n",
    "        else:\n",
    "            In = 0\n",
    "            Out = 0\n",
    "            if(allLegsByDest.has_key((city,date))):\n",
    "                In = quicksum(legs[origin, destination, depart, arri] \n",
    "                                     for (origin, destination, depart, arri) in allLegsByDest[city,date])\n",
    "            else:\n",
    "                ''\n",
    "            if(allLegsByOri.has_key((city,date))):\n",
    "                Out = quicksum(legs[origin, destination, depart, arri] \n",
    "                                     for (origin, destination, depart, arri) in allLegsByOri[city,date])\n",
    "            else:\n",
    "                ''\n",
    "        model.addConstr(In == Out, \"FlowBalance_{}_day_{}\".format(city,date))\n",
    "\n",
    "model.update()"
   ]
  },
  {
   "cell_type": "code",
   "execution_count": 29,
   "metadata": {
    "collapsed": false
   },
   "outputs": [],
   "source": [
    "#real_dates"
   ]
  },
  {
   "cell_type": "code",
   "execution_count": 30,
   "metadata": {
    "collapsed": false
   },
   "outputs": [
    {
     "name": "stdout",
     "output_type": "stream",
     "text": [
      "Optimize a model with 39 rows, 79 columns and 261 nonzeros\n",
      "Coefficient statistics:\n",
      "  Matrix range    [1e+00, 1e+00]\n",
      "  Objective range [3e+01, 3e+03]\n",
      "  Bounds range    [1e+00, 1e+00]\n",
      "  RHS range       [1e+00, 1e+01]\n",
      "Presolve removed 39 rows and 79 columns\n",
      "Presolve time: 0.01s\n",
      "Presolve: All rows and columns removed\n",
      "\n",
      "Explored 0 nodes (0 simplex iterations) in 0.03 seconds\n",
      "Thread count was 1 (of 4 available processors)\n",
      "\n",
      "Optimal solution found (tolerance 1.00e-04)\n",
      "Best objective 3.928000000000e+03, best bound 3.928000000000e+03, gap 0.0%\n"
     ]
    }
   ],
   "source": [
    "# Set Objectives\n",
    "obj = quicksum(cost[key]*legs[key] for key in cost)\n",
    "\n",
    "model.setObjective(obj, GRB.MINIMIZE)\n",
    "\n",
    "model.update()\n",
    "\n",
    "model.optimize()"
   ]
  },
  {
   "cell_type": "markdown",
   "metadata": {},
   "source": [
    "# Format output"
   ]
  },
  {
   "cell_type": "code",
   "execution_count": 32,
   "metadata": {
    "collapsed": false,
    "scrolled": true
   },
   "outputs": [
    {
     "name": "stdout",
     "output_type": "stream",
     "text": [
      "\n"
     ]
    }
   ],
   "source": [
    "#initialize main list\n",
    "\n",
    "routes = []\n",
    "route_tuples = []\n",
    "\n",
    "for (key,value) in legs.iteritems():\n",
    "    if (value.x!=0) and key[0] != key[1]:\n",
    "        #print key, cost[key], str(key[2])[-2:]\n",
    "        route_tuples.append(key+(cost[key],))\n",
    "\n",
    "print \"\"\n",
    "\n",
    "#print route_tuples\n",
    "        \n",
    "route_tuples = sorted(route_tuples, key=lambda tup: tup[2]) #sorts on date\n",
    "route_tuples.append(model.objVal) #adds price to list\n",
    "route_tuples = tuple(route_tuples) #transforms list to tuple\n",
    "\n",
    "#for i in route_tuples:\n",
    "    #print i"
   ]
  },
  {
   "cell_type": "code",
   "execution_count": 33,
   "metadata": {
    "collapsed": true
   },
   "outputs": [],
   "source": [
    "#in main loop:\n",
    "routes.append(route_tuples)\n",
    "\n",
    "#sort and slice at very end:\n",
    "sorted_routes = sorted(routes, key=lambda tup: tup[-1]) #sorts on total price\n",
    "final_results = sorted_routes[0:4] #or however many we want to return"
   ]
  },
  {
   "cell_type": "code",
   "execution_count": 34,
   "metadata": {
    "collapsed": false
   },
   "outputs": [
    {
     "data": {
      "text/plain": [
       "[(('ATL', u'LON', datetime.date(2017, 5, 5), datetime.date(2017, 5, 6), 445.0),\n",
       "  (u'LON', u'PMI', datetime.date(2017, 5, 8), datetime.date(2017, 5, 9), 60.0),\n",
       "  (u'PMI',\n",
       "   u'CDG',\n",
       "   datetime.date(2017, 5, 11),\n",
       "   datetime.date(2017, 5, 12),\n",
       "   71.0),\n",
       "  (u'CDG',\n",
       "   'ATL',\n",
       "   datetime.date(2017, 5, 14),\n",
       "   datetime.date(2017, 5, 15),\n",
       "   3352.0),\n",
       "  3928.0)]"
      ]
     },
     "execution_count": 34,
     "metadata": {},
     "output_type": "execute_result"
    }
   ],
   "source": [
    "final_results"
   ]
  },
  {
   "cell_type": "code",
   "execution_count": null,
   "metadata": {
    "collapsed": true
   },
   "outputs": [],
   "source": []
  }
 ],
 "metadata": {
  "anaconda-cloud": {},
  "kernelspec": {
   "display_name": "Python 2",
   "language": "python",
   "name": "python2"
  },
  "language_info": {
   "codemirror_mode": {
    "name": "ipython",
    "version": 2
   },
   "file_extension": ".py",
   "mimetype": "text/x-python",
   "name": "python",
   "nbconvert_exporter": "python",
   "pygments_lexer": "ipython2",
   "version": "2.7.12"
  }
 },
 "nbformat": 4,
 "nbformat_minor": 1
}
